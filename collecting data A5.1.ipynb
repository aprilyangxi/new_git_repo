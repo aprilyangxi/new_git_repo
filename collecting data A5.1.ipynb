{
 "cells": [
  {
   "cell_type": "code",
   "execution_count": 1,
   "id": "46c91ae4",
   "metadata": {},
   "outputs": [],
   "source": [
    "import pandas as pd\n",
    "pd.options.display.max_rows = 100"
   ]
  },
  {
   "cell_type": "code",
   "execution_count": 2,
   "id": "839225b9",
   "metadata": {},
   "outputs": [
    {
     "data": {
      "text/html": [
       "<div>\n",
       "<style scoped>\n",
       "    .dataframe tbody tr th:only-of-type {\n",
       "        vertical-align: middle;\n",
       "    }\n",
       "\n",
       "    .dataframe tbody tr th {\n",
       "        vertical-align: top;\n",
       "    }\n",
       "\n",
       "    .dataframe thead th {\n",
       "        text-align: right;\n",
       "    }\n",
       "</style>\n",
       "<table border=\"1\" class=\"dataframe\">\n",
       "  <thead>\n",
       "    <tr style=\"text-align: right;\">\n",
       "      <th></th>\n",
       "      <th>Company</th>\n",
       "      <th>Job Title</th>\n",
       "      <th>Location</th>\n",
       "      <th>Estimated Salary</th>\n",
       "    </tr>\n",
       "  </thead>\n",
       "  <tbody>\n",
       "    <tr>\n",
       "      <th>0</th>\n",
       "      <td>Dataquestcorp</td>\n",
       "      <td>Data Science</td>\n",
       "      <td>Branchburg, NJ</td>\n",
       "      <td>$70K - $79K (Employer est.)</td>\n",
       "    </tr>\n",
       "    <tr>\n",
       "      <th>1</th>\n",
       "      <td>Paliwoda Group</td>\n",
       "      <td>Junior Researcher, Data Science</td>\n",
       "      <td>New York, NY</td>\n",
       "      <td>NaN</td>\n",
       "    </tr>\n",
       "    <tr>\n",
       "      <th>2</th>\n",
       "      <td>JPMorgan Chase Bank, N.A.</td>\n",
       "      <td>2023 Advancing Hispanics &amp; Latinos Fellowship ...</td>\n",
       "      <td>New York, NY</td>\n",
       "      <td>$26.45 Per Hour(Employer est.)</td>\n",
       "    </tr>\n",
       "    <tr>\n",
       "      <th>3</th>\n",
       "      <td>Discord</td>\n",
       "      <td>Data Engineering Manager</td>\n",
       "      <td>San Francisco, CA</td>\n",
       "      <td>$192K (Employer est.)</td>\n",
       "    </tr>\n",
       "    <tr>\n",
       "      <th>4</th>\n",
       "      <td>YT Global Network</td>\n",
       "      <td>Data Engineer- Remote</td>\n",
       "      <td>Remote</td>\n",
       "      <td>$90.00 - $120.00 Per Hour(Employer est.)</td>\n",
       "    </tr>\n",
       "    <tr>\n",
       "      <th>...</th>\n",
       "      <td>...</td>\n",
       "      <td>...</td>\n",
       "      <td>...</td>\n",
       "      <td>...</td>\n",
       "    </tr>\n",
       "    <tr>\n",
       "      <th>2425</th>\n",
       "      <td>C3 AI</td>\n",
       "      <td>Data Science Instructor</td>\n",
       "      <td>Redwood City, CA</td>\n",
       "      <td>$109K - $142K (Employer est.)</td>\n",
       "    </tr>\n",
       "    <tr>\n",
       "      <th>2426</th>\n",
       "      <td>pulseData</td>\n",
       "      <td>Data Science Associate (Remote)</td>\n",
       "      <td>New York, NY</td>\n",
       "      <td>$50K - $83K (Glassdoor est.)</td>\n",
       "    </tr>\n",
       "    <tr>\n",
       "      <th>2427</th>\n",
       "      <td>Bayer</td>\n",
       "      <td>NAFTO Data Science Co-op</td>\n",
       "      <td>United States</td>\n",
       "      <td>$35.00 Per Hour(Employer est.)</td>\n",
       "    </tr>\n",
       "    <tr>\n",
       "      <th>2428</th>\n",
       "      <td>MediaMath</td>\n",
       "      <td>VP, Data Science</td>\n",
       "      <td>New York, NY</td>\n",
       "      <td>$231K - $300K (Employer est.)</td>\n",
       "    </tr>\n",
       "    <tr>\n",
       "      <th>2429</th>\n",
       "      <td>Duolingo</td>\n",
       "      <td>Head of Data Science</td>\n",
       "      <td>New York, NY</td>\n",
       "      <td>$196K - $314K (Employer est.)</td>\n",
       "    </tr>\n",
       "  </tbody>\n",
       "</table>\n",
       "<p>2430 rows × 4 columns</p>\n",
       "</div>"
      ],
      "text/plain": [
       "                        Company  \\\n",
       "0                 Dataquestcorp   \n",
       "1                Paliwoda Group   \n",
       "2     JPMorgan Chase Bank, N.A.   \n",
       "3                       Discord   \n",
       "4             YT Global Network   \n",
       "...                         ...   \n",
       "2425                      C3 AI   \n",
       "2426                  pulseData   \n",
       "2427                      Bayer   \n",
       "2428                  MediaMath   \n",
       "2429                   Duolingo   \n",
       "\n",
       "                                              Job Title           Location  \\\n",
       "0                                          Data Science     Branchburg, NJ   \n",
       "1                       Junior Researcher, Data Science       New York, NY   \n",
       "2     2023 Advancing Hispanics & Latinos Fellowship ...       New York, NY   \n",
       "3                              Data Engineering Manager  San Francisco, CA   \n",
       "4                                 Data Engineer- Remote             Remote   \n",
       "...                                                 ...                ...   \n",
       "2425                            Data Science Instructor   Redwood City, CA   \n",
       "2426                    Data Science Associate (Remote)       New York, NY   \n",
       "2427                           NAFTO Data Science Co-op      United States   \n",
       "2428                                   VP, Data Science       New York, NY   \n",
       "2429                               Head of Data Science       New York, NY   \n",
       "\n",
       "                              Estimated Salary  \n",
       "0                  $70K - $79K (Employer est.)  \n",
       "1                                          NaN  \n",
       "2               $26.45 Per Hour(Employer est.)  \n",
       "3                        $192K (Employer est.)  \n",
       "4     $90.00 - $120.00 Per Hour(Employer est.)  \n",
       "...                                        ...  \n",
       "2425             $109K - $142K (Employer est.)  \n",
       "2426              $50K - $83K (Glassdoor est.)  \n",
       "2427            $35.00 Per Hour(Employer est.)  \n",
       "2428             $231K - $300K (Employer est.)  \n",
       "2429             $196K - $314K (Employer est.)  \n",
       "\n",
       "[2430 rows x 4 columns]"
      ]
     },
     "execution_count": 2,
     "metadata": {},
     "output_type": "execute_result"
    }
   ],
   "source": [
    "vacancies_data = pd.read_csv(\"/Users/yangxi/Desktop/data_sci_jobs.csv\", delimiter=',', encoding='utf-8')\n",
    "vacancies_data"
   ]
  },
  {
   "cell_type": "code",
   "execution_count": 3,
   "id": "807af2e7",
   "metadata": {},
   "outputs": [
    {
     "data": {
      "text/html": [
       "<div>\n",
       "<style scoped>\n",
       "    .dataframe tbody tr th:only-of-type {\n",
       "        vertical-align: middle;\n",
       "    }\n",
       "\n",
       "    .dataframe tbody tr th {\n",
       "        vertical-align: top;\n",
       "    }\n",
       "\n",
       "    .dataframe thead th {\n",
       "        text-align: right;\n",
       "    }\n",
       "</style>\n",
       "<table border=\"1\" class=\"dataframe\">\n",
       "  <thead>\n",
       "    <tr style=\"text-align: right;\">\n",
       "      <th></th>\n",
       "      <th>Company</th>\n",
       "      <th>Job Title</th>\n",
       "      <th>Location</th>\n",
       "      <th>Estimated Salary</th>\n",
       "    </tr>\n",
       "  </thead>\n",
       "  <tbody>\n",
       "    <tr>\n",
       "      <th>count</th>\n",
       "      <td>2430</td>\n",
       "      <td>2430</td>\n",
       "      <td>2427</td>\n",
       "      <td>1948</td>\n",
       "    </tr>\n",
       "    <tr>\n",
       "      <th>unique</th>\n",
       "      <td>32</td>\n",
       "      <td>34</td>\n",
       "      <td>24</td>\n",
       "      <td>30</td>\n",
       "    </tr>\n",
       "    <tr>\n",
       "      <th>top</th>\n",
       "      <td>JPMorgan Chase Bank, N.A.</td>\n",
       "      <td>Data Science Co-Op</td>\n",
       "      <td>New York, NY</td>\n",
       "      <td>$26.45 Per Hour(Employer est.)</td>\n",
       "    </tr>\n",
       "    <tr>\n",
       "      <th>freq</th>\n",
       "      <td>87</td>\n",
       "      <td>162</td>\n",
       "      <td>484</td>\n",
       "      <td>77</td>\n",
       "    </tr>\n",
       "  </tbody>\n",
       "</table>\n",
       "</div>"
      ],
      "text/plain": [
       "                          Company           Job Title      Location  \\\n",
       "count                        2430                2430          2427   \n",
       "unique                         32                  34            24   \n",
       "top     JPMorgan Chase Bank, N.A.  Data Science Co-Op  New York, NY   \n",
       "freq                           87                 162           484   \n",
       "\n",
       "                      Estimated Salary  \n",
       "count                             1948  \n",
       "unique                              30  \n",
       "top     $26.45 Per Hour(Employer est.)  \n",
       "freq                                77  "
      ]
     },
     "execution_count": 3,
     "metadata": {},
     "output_type": "execute_result"
    }
   ],
   "source": [
    "vacancies_data.describe()"
   ]
  },
  {
   "cell_type": "code",
   "execution_count": 6,
   "id": "de39d80e",
   "metadata": {},
   "outputs": [
    {
     "data": {
      "text/plain": [
       "Location\n",
       "Atlanta, GA            82\n",
       "Boston, MA            162\n",
       "Branchburg, NJ         81\n",
       "Bridgeton, MO          81\n",
       "Chicago, IL            81\n",
       "Cupertino, CA           2\n",
       "Dallas, TX             81\n",
       "Franklin, VA            6\n",
       "Lanham, MD             78\n",
       "Las Vegas, NV          71\n",
       "Lehi, UT               75\n",
       "Memphis, TN             9\n",
       "Mountain View, CA      81\n",
       "New York, NY          484\n",
       "Newtown Square, PA     81\n",
       "Plano, TX               2\n",
       "Redwood City, CA       81\n",
       "Remote                324\n",
       "San Carlos, CA         81\n",
       "San Francisco, CA     162\n",
       "San Jose, CA           81\n",
       "San Mateo, CA          81\n",
       "Seattle, WA            81\n",
       "United States          79\n",
       "Name: Company, dtype: int64"
      ]
     },
     "execution_count": 6,
     "metadata": {},
     "output_type": "execute_result"
    }
   ],
   "source": [
    "#in this step i want to classify by locations\n",
    "vacancies_data.groupby('Location').count()['Company']"
   ]
  },
  {
   "cell_type": "code",
   "execution_count": 8,
   "id": "3133e892",
   "metadata": {},
   "outputs": [
    {
     "data": {
      "text/plain": [
       "<seaborn.axisgrid.FacetGrid at 0x7fad8bb83460>"
      ]
     },
     "execution_count": 8,
     "metadata": {},
     "output_type": "execute_result"
    },
    {
     "data": {
      "image/png": "[encoded data removed]",
      "text/plain": [
       "<Figure size 360x360 with 1 Axes>"
      ]
     },
     "metadata": {
      "needs_background": "light"
     },
     "output_type": "display_data"
    }
   ],
   "source": [
    "import seaborn as sns\n",
    "sns.catplot(x=\"Location\",kind=\"count\",data=vacancies_data)"
   ]
  },
  {
   "cell_type": "code",
   "execution_count": null,
   "id": "0a183484",
   "metadata": {},
   "outputs": [],
   "source": []
  }
 ],
 "metadata": {
  "kernelspec": {
   "display_name": "Python 3 (ipykernel)",
   "language": "python",
   "name": "python3"
  },
  "language_info": {
   "codemirror_mode": {
    "name": "ipython",
    "version": 3
   },
   "file_extension": ".py",
   "mimetype": "text/x-python",
   "name": "python",
   "nbconvert_exporter": "python",
   "pygments_lexer": "ipython3",
   "version": "3.9.12"
  }
 },
 "nbformat": 4,
 "nbformat_minor": 5
}
